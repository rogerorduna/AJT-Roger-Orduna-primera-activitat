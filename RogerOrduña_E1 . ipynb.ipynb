{
 "cells": [
  {
   "cell_type": "markdown",
   "id": "6d5a2707",
   "metadata": {},
   "source": [
    "exercici 1: enters"
   ]
  },
  {
   "cell_type": "code",
   "execution_count": 23,
   "id": "046686f1",
   "metadata": {},
   "outputs": [
    {
     "name": "stdout",
     "output_type": "stream",
     "text": [
      "8.35\n"
     ]
    }
   ],
   "source": [
    "preu_entrades=8.35\n",
    "nombre_entrades=1\n",
    "cost_total= preu_entrada * nombre_entrades\n",
    "print(cost_total)"
   ]
  },
  {
   "cell_type": "code",
   "execution_count": 25,
   "id": "0de0ad5b",
   "metadata": {},
   "outputs": [
    {
     "name": "stdout",
     "output_type": "stream",
     "text": [
      "41.75\n"
     ]
    }
   ],
   "source": [
    "preu_entrades=8.35\n",
    "nombre_entrades=5\n",
    "cost_total= preu_entrada * nombre_entrades\n",
    "print(cost_total)"
   ]
  },
  {
   "cell_type": "code",
   "execution_count": 29,
   "id": "6c4bb37d",
   "metadata": {},
   "outputs": [
    {
     "name": "stdout",
     "output_type": "stream",
     "text": [
      "2955.9\n"
     ]
    }
   ],
   "source": [
    "preu_entrades=8.35\n",
    "nombre_entrades=354\n",
    "cost_total= preu_entrada * nombre_entrades\n",
    "print(cost_total)"
   ]
  },
  {
   "cell_type": "code",
   "execution_count": 31,
   "id": "c0bc61ae",
   "metadata": {},
   "outputs": [
    {
     "ename": "SyntaxError",
     "evalue": "cannot assign to expression here. Maybe you meant '==' instead of '='? (2136746461.py, line 5)",
     "output_type": "error",
     "traceback": [
      "  \u001b[36mCell\u001b[39m\u001b[36m \u001b[39m\u001b[32mIn[31]\u001b[39m\u001b[32m, line 5\u001b[39m\n\u001b[31m    \u001b[39m\u001b[31mcost-total= preu_entrada * nombre_entrades - ((nombre_entrades_retornades * preu_entrades * percentatge)/100)\u001b[39m\n    ^\n\u001b[31mSyntaxError\u001b[39m\u001b[31m:\u001b[39m cannot assign to expression here. Maybe you meant '==' instead of '='?\n"
     ]
    }
   ],
   "source": [
    "nombre_entrades_retornades=4\n",
    "percentatge=88\n",
    "nombre_entrades=10\n",
    "preu_entrada=8.35\n",
    "cost-total= preu_entrada * nombre_entrades - ((nombre_entrades_retornades * preu_entrades * percentatge)/100)\n",
    "print(cost_total)"
   ]
  },
  {
   "cell_type": "markdown",
   "id": "c4250bf1",
   "metadata": {},
   "source": [
    "Exercici 2"
   ]
  },
  {
   "cell_type": "code",
   "execution_count": 27,
   "id": "29a7c547",
   "metadata": {},
   "outputs": [
    {
     "name": "stdout",
     "output_type": "stream",
     "text": [
      "58.51985059900009\n"
     ]
    }
   ],
   "source": [
    "poblacio=1000\n",
    "infectats_inicials=10\n",
    "taxa_contagi=0.01\n",
    "dies=5\n",
    "infectats=infectats_inicials + (poblacio-infectats_inicials) * (1-(1-taxa_contagi)**5)\n",
    "print(infectats)"
   ]
  },
  {
   "cell_type": "markdown",
   "id": "86456136",
   "metadata": {},
   "source": [
    "exercici 3"
   ]
  },
  {
   "cell_type": "code",
   "execution_count": null,
   "id": "12d904a3",
   "metadata": {},
   "outputs": [],
   "source": []
  }
 ],
 "metadata": {
  "kernelspec": {
   "display_name": "Python 3",
   "language": "python",
   "name": "python3"
  },
  "language_info": {
   "codemirror_mode": {
    "name": "ipython",
    "version": 3
   },
   "file_extension": ".py",
   "mimetype": "text/x-python",
   "name": "python",
   "nbconvert_exporter": "python",
   "pygments_lexer": "ipython3",
   "version": "3.13.7"
  }
 },
 "nbformat": 4,
 "nbformat_minor": 5
}
